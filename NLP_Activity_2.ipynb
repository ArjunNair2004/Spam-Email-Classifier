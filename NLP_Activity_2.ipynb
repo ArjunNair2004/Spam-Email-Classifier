{
  "cells": [
    {
      "cell_type": "markdown",
      "metadata": {
        "id": "view-in-github",
        "colab_type": "text"
      },
      "source": [
        "<a href=\"https://colab.research.google.com/github/ArjunNair2004/Spam-Email-Classifier/blob/main/NLP_Activity_2.ipynb\" target=\"_parent\"><img src=\"https://colab.research.google.com/assets/colab-badge.svg\" alt=\"Open In Colab\"/></a>"
      ]
    },
    {
      "cell_type": "markdown",
      "metadata": {
        "id": "jFD0FP5Vfle0"
      },
      "source": [
        "Email Spam Classifier"
      ]
    },
    {
      "cell_type": "code",
      "source": [
        "!pip install ngrok\n"
      ],
      "metadata": {
        "colab": {
          "base_uri": "https://localhost:8080/"
        },
        "id": "yR6tZ4R-AD0P",
        "outputId": "6e023da0-8382-4b8d-aa9a-0ed004806142"
      },
      "execution_count": null,
      "outputs": [
        {
          "output_type": "stream",
          "name": "stdout",
          "text": [
            "Collecting ngrok\n",
            "  Downloading ngrok-1.4.0-cp37-abi3-manylinux_2_17_x86_64.manylinux2014_x86_64.whl.metadata (19 kB)\n",
            "Downloading ngrok-1.4.0-cp37-abi3-manylinux_2_17_x86_64.manylinux2014_x86_64.whl (3.1 MB)\n",
            "\u001b[?25l   \u001b[90m━━━━━━━━━━━━━━━━━━━━━━━━━━━━━━━━━━━━━━━━\u001b[0m \u001b[32m0.0/3.1 MB\u001b[0m \u001b[31m?\u001b[0m eta \u001b[36m-:--:--\u001b[0m\r\u001b[2K   \u001b[91m━━━━━━━━━━━━━━━━━━━━━━━━━━━━━━━━━━━━━━━\u001b[0m\u001b[91m╸\u001b[0m \u001b[32m3.1/3.1 MB\u001b[0m \u001b[31m141.0 MB/s\u001b[0m eta \u001b[36m0:00:01\u001b[0m\r\u001b[2K   \u001b[90m━━━━━━━━━━━━━━━━━━━━━━━━━━━━━━━━━━━━━━━━\u001b[0m \u001b[32m3.1/3.1 MB\u001b[0m \u001b[31m74.7 MB/s\u001b[0m eta \u001b[36m0:00:00\u001b[0m\n",
            "\u001b[?25hInstalling collected packages: ngrok\n",
            "Successfully installed ngrok-1.4.0\n"
          ]
        }
      ]
    },
    {
      "cell_type": "code",
      "execution_count": null,
      "metadata": {
        "colab": {
          "base_uri": "https://localhost:8080/"
        },
        "id": "vXwsXsCKPfQX",
        "outputId": "6025b17e-ffb3-4084-a3c1-e1276ea0ee76"
      },
      "outputs": [
        {
          "output_type": "stream",
          "name": "stdout",
          "text": [
            "Authtoken saved to configuration file: /root/.config/ngrok/ngrok.yml\n"
          ]
        }
      ],
      "source": [
        "!ngrok authtoken 2mkrLdh6TGO3P0H2eNvSBLIEtAX_3fSWj5B9sat7WN8FyjHD\n",
        "\n",
        "\n",
        "\n"
      ]
    },
    {
      "cell_type": "code",
      "source": [
        "from pyngrok import ngrok\n",
        "\n",
        "# List active tunnels\n",
        "ngrok_tunnels = ngrok.get_tunnels()\n",
        "for tunnel in ngrok_tunnels:\n",
        "    print(tunnel.public_url)\n"
      ],
      "metadata": {
        "colab": {
          "base_uri": "https://localhost:8080/"
        },
        "id": "GSrVf-1bCCWL",
        "outputId": "ee7a4f99-3eff-46e8-c1c8-b5f715ee0989"
      },
      "execution_count": null,
      "outputs": [
        {
          "output_type": "stream",
          "name": "stdout",
          "text": [
            "https://ba59-34-86-177-45.ngrok-free.app\n",
            "https://0946-34-86-177-45.ngrok-free.app\n",
            "https://76ed-34-86-177-45.ngrok-free.app\n"
          ]
        }
      ]
    },
    {
      "cell_type": "code",
      "source": [
        "for tunnel in ngrok_tunnels:\n",
        "    ngrok.disconnect(tunnel.public_url)\n"
      ],
      "metadata": {
        "id": "znEsTQq49lot",
        "colab": {
          "base_uri": "https://localhost:8080/"
        },
        "outputId": "1eb290b8-97a7-4f20-c032-e2971c28f9a5"
      },
      "execution_count": null,
      "outputs": [
        {
          "output_type": "stream",
          "name": "stderr",
          "text": [
            "WARNING:pyngrok.process.ngrok:t=2024-09-30T03:45:49+0000 lvl=warn msg=\"Stopping forwarder\" name=http-8502-a8377f29-8923-4c09-bb17-41380e0dc059 acceptErr=\"failed to accept connection: Listener closed\"\n",
            "WARNING:pyngrok.process.ngrok:t=2024-09-30T03:45:49+0000 lvl=warn msg=\"Stopping forwarder\" name=http-8502-404899cc-5a96-415e-99c9-430d17e52761 acceptErr=\"failed to accept connection: Listener closed\"\n",
            "WARNING:pyngrok.process.ngrok:t=2024-09-30T03:45:49+0000 lvl=warn msg=\"Stopping forwarder\" name=http-8501-a2f2d5ef-f059-4594-b48e-1a05e2d58ca4 acceptErr=\"failed to accept connection: Listener closed\"\n"
          ]
        }
      ]
    },
    {
      "cell_type": "code",
      "source": [
        "from pyngrok import ngrok\n",
        "public_url = ngrok.connect(8501, \"http\")\n",
        "public_url\n"
      ],
      "metadata": {
        "colab": {
          "base_uri": "https://localhost:8080/"
        },
        "id": "3CZU4bg02DMV",
        "outputId": "56a7e6ef-668d-47ab-bf5e-ae87a9c981db"
      },
      "execution_count": null,
      "outputs": [
        {
          "output_type": "execute_result",
          "data": {
            "text/plain": [
              "<NgrokTunnel: \"https://f278-34-86-177-45.ngrok-free.app\" -> \"http://localhost:8501\">"
            ]
          },
          "metadata": {},
          "execution_count": 71
        }
      ]
    },
    {
      "cell_type": "code",
      "source": [
        "!streamlit run app.py &>/dev/null&\n"
      ],
      "metadata": {
        "id": "JpXidfah3OpC"
      },
      "execution_count": null,
      "outputs": []
    },
    {
      "cell_type": "code",
      "execution_count": null,
      "metadata": {
        "colab": {
          "base_uri": "https://localhost:8080/"
        },
        "id": "4MFoFbPhPNIj",
        "outputId": "2ab07941-50ba-487d-bc52-8b54c53a2cbf"
      },
      "outputs": [
        {
          "output_type": "stream",
          "name": "stdout",
          "text": [
            "Overwriting app.py\n"
          ]
        }
      ],
      "source": [
        "%%writefile app.py\n",
        "import streamlit as st\n",
        "import pandas as pd\n",
        "from sklearn.model_selection import train_test_split\n",
        "from sklearn.naive_bayes import MultinomialNB\n",
        "import joblib\n",
        "\n",
        "# Load dataset and preprocess\n",
        "try:\n",
        "    df = pd.read_csv('email50.csv')  # Adjust the file path if necessary\n",
        "except FileNotFoundError:\n",
        "    st.error(\"Dataset not found! Please make sure 'email50.csv' is available.\")\n",
        "\n",
        "X = df.drop(columns=['spam', 'time'])\n",
        "y = df['spam']\n",
        "X = pd.get_dummies(X, columns=['number', 'winner'], drop_first=True)\n",
        "X_train, X_test, y_train, y_test = train_test_split(X, y, test_size=0.2, random_state=42)\n",
        "\n",
        "# Train or load Naive Bayes model\n",
        "model_file = 'naive_bayes_spam_model.pkl'\n",
        "try:\n",
        "    model = joblib.load(model_file)\n",
        "    st.success(\"Loaded pre-trained model.\")\n",
        "except:\n",
        "    model = MultinomialNB()\n",
        "    model.fit(X_train, y_train)\n",
        "    joblib.dump(model, model_file)\n",
        "    st.success(\"Trained and saved new model.\")\n",
        "\n",
        "# Model accuracy\n",
        "accuracy = model.score(X_test, y_test)\n",
        "st.write(f\"Model Accuracy: {accuracy * 100:.2f}%\")\n",
        "\n",
        "# Streamlit user interface\n",
        "st.title(\"Email Spam Classifier\")\n",
        "st.write(\"Classify whether an email is spam based on its characteristics.\")\n",
        "\n",
        "to_multiple = st.radio(\"Sent to multiple recipients:\", ('yes', 'no'))\n",
        "from_address = st.radio(\"From a known person:\", ('yes', 'no'))\n",
        "cc = st.radio(\"Was there a CC:\", ('yes', 'no'))\n",
        "sent_email = st.radio(\"Is it a sent email:\", ('yes', 'no'))\n",
        "number = st.radio(\"Number of recipients:\", ('small', 'big', 'none'))\n",
        "winner = st.radio(\"Does the email mention winning something:\", ('yes', 'no'))\n",
        "\n",
        "if st.button(\"Classify Email\"):\n",
        "    # Prepare input\n",
        "    input_data = {\n",
        "        'to_multiple': [1 if to_multiple == 'yes' else 0],\n",
        "        'from': [1 if from_address == 'yes' else 0],\n",
        "        'cc': [1 if cc == 'yes' else 0],\n",
        "        'sent_email': [1 if sent_email == 'yes' else 0],\n",
        "        'number_big': [1 if number == 'big' else 0],\n",
        "        'number_none': [1 if number == 'none' else 0],\n",
        "        'winner_yes': [1 if winner == 'yes' else 0],\n",
        "    }\n",
        "\n",
        "    input_df = pd.DataFrame(input_data)\n",
        "    for col in X_train.columns:\n",
        "        if col not in input_df.columns:\n",
        "            input_df[col] = 0\n",
        "    input_df = input_df[X_train.columns]\n",
        "\n",
        "    # Predict\n",
        "    prediction = model.predict(input_df)\n",
        "    if prediction[0] == 1:\n",
        "        st.write(\"This email is SPAM\")\n",
        "    else:\n",
        "        st.write(\"This email is NOT SPAM\")\n"
      ]
    }
  ],
  "metadata": {
    "colab": {
      "provenance": [],
      "authorship_tag": "ABX9TyOkq5asqnS0yfhgS8LA+CID",
      "include_colab_link": true
    },
    "kernelspec": {
      "display_name": "Python 3",
      "name": "python3"
    },
    "language_info": {
      "name": "python"
    }
  },
  "nbformat": 4,
  "nbformat_minor": 0
}